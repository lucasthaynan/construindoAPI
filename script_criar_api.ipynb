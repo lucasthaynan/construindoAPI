{
 "cells": [
  {
   "cell_type": "code",
   "execution_count": 25,
   "metadata": {},
   "outputs": [
    {
     "name": "stdout",
     "output_type": "stream",
     "text": [
      "1. Bibliotecas Importadas\n"
     ]
    }
   ],
   "source": [
    "import pandas as pd\n",
    "from github import Github\n",
    "import json\n",
    "import requests\n",
    "\n",
    "print('1. Bibliotecas Importadas')"
   ]
  },
  {
   "cell_type": "code",
   "execution_count": 34,
   "metadata": {},
   "outputs": [
    {
     "name": "stdout",
     "output_type": "stream",
     "text": [
      "2.27.1\n"
     ]
    }
   ],
   "source": [
    "print(requests.__version__)"
   ]
  },
  {
   "cell_type": "code",
   "execution_count": 27,
   "metadata": {},
   "outputs": [
    {
     "name": "stdout",
     "output_type": "stream",
     "text": [
      "2. Tokens carregados\n"
     ]
    }
   ],
   "source": [
    "TOKEN_API_FUTEBOL = 'test_c961e301def7b699c92963a17ac1db'\n",
    "TOKEN_GITHUB = ''\n",
    "\n",
    "print('2. Tokens carregados')"
   ]
  },
  {
   "cell_type": "code",
   "execution_count": 28,
   "metadata": {},
   "outputs": [],
   "source": [
    "\n",
    "def tabela_serie_a(campeonato_id, TOKEN_API_FUTEBOL):   \n",
    "    \n",
    "    url = f'https://api.api-futebol.com.br/v1/campeonatos/{campeonato_id}/tabela'\n",
    "    headers = {'Authorization': f'Bearer {TOKEN_API_FUTEBOL}'}\n",
    "    requisicao = requests.get(url, headers=headers)\n",
    "\n",
    "    requisicao = json.loads(requisicao.text)\n",
    "\n",
    "    tabela_campeonato = []\n",
    "\n",
    "    for time in requisicao:\n",
    "        dados_time = {\n",
    "            'time': time['time']['nome_popular'],\n",
    "            'posicao': time['posicao'],\n",
    "            'pontos': time['pontos'],\n",
    "            'escudo': time['time']['escudo'],\n",
    "        }\n",
    "\n",
    "        tabela_campeonato.append(dados_time)\n",
    "\n",
    "    return tabela_campeonato\n",
    "\n"
   ]
  },
  {
   "cell_type": "code",
   "execution_count": 29,
   "metadata": {},
   "outputs": [
    {
     "name": "stdout",
     "output_type": "stream",
     "text": [
      "3. Dados coletados e tratados\n"
     ]
    }
   ],
   "source": [
    "tabela = tabela_serie_a(10, TOKEN_API_FUTEBOL)\n",
    "# tabela\n",
    "\n",
    "print('3. Dados coletados e tratados')"
   ]
  },
  {
   "cell_type": "code",
   "execution_count": 30,
   "metadata": {},
   "outputs": [
    {
     "data": {
      "text/plain": [
       "'[{\"time\": \"Chapecoense\", \"posicao\": 1, \"pontos\": 73, \"escudo\": \"https://apifutebol.s3.sa-east-1.amazonaws.com/escudos/5f999c82dc52e.svg\"}, {\"time\": \"Am\\\\u00e9rica-MG\", \"posicao\": 2, \"pontos\": 73, \"escudo\": \"https://apifutebol.s3.sa-east-1.amazonaws.com/escudos/5f999cac0b5cc.svg\"}, {\"time\": \"Juventude\", \"posicao\": 3, \"pontos\": 61, \"escudo\": \"https://apifutebol.s3.sa-east-1.amazonaws.com/escudos/5f999cb997a01.svg\"}, {\"time\": \"Cuiab\\\\u00e1\", \"posicao\": 4, \"pontos\": 61, \"escudo\": \"https://apifutebol.s3.sa-east-1.amazonaws.com/escudos/5f999e4424264.svg\"}, {\"time\": \"CSA\", \"posicao\": 5, \"pontos\": 58, \"escudo\": \"https://apifutebol.s3.sa-east-1.amazonaws.com/escudos/5f999dac914d4.svg\"}, {\"time\": \"Sampaio Corr\\\\u00eaa\", \"posicao\": 6, \"pontos\": 57, \"escudo\": \"https://apifutebol.s3.sa-east-1.amazonaws.com/escudos/5f999dd07831b.svg\"}, {\"time\": \"Ponte Preta\", \"posicao\": 7, \"pontos\": 57, \"escudo\": \"https://apifutebol.s3.sa-east-1.amazonaws.com/escudos/5f999d718e8b0.svg\"}, {\"time\": \"Oper\\\\u00e1rio-PR\", \"posicao\": 8, \"pontos\": 57, \"escudo\": \"https://apifutebol.s3.sa-east-1.amazonaws.com/escudos/5f999dcc8ff9f.svg\"}, {\"time\": \"Ava\\\\u00ed\", \"posicao\": 9, \"pontos\": 55, \"escudo\": \"https://apifutebol.s3.sa-east-1.amazonaws.com/escudos/5f999c8488adb.svg\"}, {\"time\": \"CRB\", \"posicao\": 10, \"pontos\": 52, \"escudo\": \"https://apifutebol.s3.sa-east-1.amazonaws.com/escudos/5f999da50b853.svg\"}, {\"time\": \"Cruzeiro\", \"posicao\": 11, \"pontos\": 49, \"escudo\": \"https://apifutebol.s3.sa-east-1.amazonaws.com/escudos/5f999cb17a444.svg\"}, {\"time\": \"Brasil de Pelotas\", \"posicao\": 12, \"pontos\": 49, \"escudo\": \"https://apifutebol.s3.sa-east-1.amazonaws.com/escudos/5f999cc025f7c.svg\"}, {\"time\": \"Guarani\", \"posicao\": 13, \"pontos\": 48, \"escudo\": \"https://apifutebol.s3.sa-east-1.amazonaws.com/escudos/5f999cc97ce63.svg\"}, {\"time\": \"Vit\\\\u00f3ria\", \"posicao\": 14, \"pontos\": 48, \"escudo\": \"https://apifutebol.s3.sa-east-1.amazonaws.com/escudos/5f999db697241.svg\"}, {\"time\": \"Confian\\\\u00e7a\", \"posicao\": 15, \"pontos\": 46, \"escudo\": \"https://apifutebol.s3.sa-east-1.amazonaws.com/escudos/5f999e45c52f1.svg\"}, {\"time\": \"N\\\\u00e1utico\", \"posicao\": 16, \"pontos\": 44, \"escudo\": \"https://apifutebol.s3.sa-east-1.amazonaws.com/escudos/5f999d8a748ce.svg\"}, {\"time\": \"Figueirense\", \"posicao\": 17, \"pontos\": 39, \"escudo\": \"https://apifutebol.s3.sa-east-1.amazonaws.com/escudos/5f999c88acad7.svg\"}, {\"time\": \"Paran\\\\u00e1\", \"posicao\": 18, \"pontos\": 37, \"escudo\": \"https://apifutebol.s3.sa-east-1.amazonaws.com/escudos/5f999d8ce59bd.svg\"}, {\"time\": \"Botafogo-SP\", \"posicao\": 19, \"pontos\": 34, \"escudo\": \"https://apifutebol.s3.sa-east-1.amazonaws.com/escudos/5f999d7dd27d9.svg\"}, {\"time\": \"Oeste\", \"posicao\": 20, \"pontos\": 29, \"escudo\": \"https://apifutebol.s3.sa-east-1.amazonaws.com/escudos/5f999cc618b80.svg\"}]'"
      ]
     },
     "execution_count": 30,
     "metadata": {},
     "output_type": "execute_result"
    }
   ],
   "source": [
    "# dados no formato de lista de dicionários\n",
    "\n",
    "tabela_json = json.dumps(tabela) # converte em json\n",
    "\n",
    "tabela_json"
   ]
  },
  {
   "cell_type": "code",
   "execution_count": 31,
   "metadata": {},
   "outputs": [
    {
     "data": {
      "text/html": [
       "<div><div id=cedfb481-aa16-499e-9aa2-27cb0638cbf5 style=\"display:none; background-color:#9D6CFF; color:white; width:200px; height:30px; padding-left:5px; border-radius:4px; flex-direction:row; justify-content:space-around; align-items:center;\" onmouseover=\"this.style.backgroundColor='#BA9BF8'\" onmouseout=\"this.style.backgroundColor='#9D6CFF'\" onclick=\"window.commands?.execute('create-mitosheet-from-dataframe-output');\">See Full Dataframe in Mito</div> <script> if (window.commands.hasCommand('create-mitosheet-from-dataframe-output')) document.getElementById('cedfb481-aa16-499e-9aa2-27cb0638cbf5').style.display = 'flex' </script> <table border=\"1\" class=\"dataframe\">\n",
       "  <thead>\n",
       "    <tr style=\"text-align: right;\">\n",
       "      <th></th>\n",
       "      <th>time</th>\n",
       "      <th>posicao</th>\n",
       "      <th>pontos</th>\n",
       "      <th>escudo</th>\n",
       "    </tr>\n",
       "  </thead>\n",
       "  <tbody>\n",
       "    <tr>\n",
       "      <th>0</th>\n",
       "      <td>Chapecoense</td>\n",
       "      <td>1</td>\n",
       "      <td>73</td>\n",
       "      <td>https://apifutebol.s3.sa-east-1.amazonaws.com/escudos/5f999c82dc52e.svg</td>\n",
       "    </tr>\n",
       "    <tr>\n",
       "      <th>1</th>\n",
       "      <td>América-MG</td>\n",
       "      <td>2</td>\n",
       "      <td>73</td>\n",
       "      <td>https://apifutebol.s3.sa-east-1.amazonaws.com/escudos/5f999cac0b5cc.svg</td>\n",
       "    </tr>\n",
       "    <tr>\n",
       "      <th>2</th>\n",
       "      <td>Juventude</td>\n",
       "      <td>3</td>\n",
       "      <td>61</td>\n",
       "      <td>https://apifutebol.s3.sa-east-1.amazonaws.com/escudos/5f999cb997a01.svg</td>\n",
       "    </tr>\n",
       "    <tr>\n",
       "      <th>3</th>\n",
       "      <td>Cuiabá</td>\n",
       "      <td>4</td>\n",
       "      <td>61</td>\n",
       "      <td>https://apifutebol.s3.sa-east-1.amazonaws.com/escudos/5f999e4424264.svg</td>\n",
       "    </tr>\n",
       "    <tr>\n",
       "      <th>4</th>\n",
       "      <td>CSA</td>\n",
       "      <td>5</td>\n",
       "      <td>58</td>\n",
       "      <td>https://apifutebol.s3.sa-east-1.amazonaws.com/escudos/5f999dac914d4.svg</td>\n",
       "    </tr>\n",
       "  </tbody>\n",
       "</table></div>"
      ],
      "text/plain": [
       "          time  posicao  pontos  \\\n",
       "0  Chapecoense        1      73   \n",
       "1   América-MG        2      73   \n",
       "2    Juventude        3      61   \n",
       "3       Cuiabá        4      61   \n",
       "4          CSA        5      58   \n",
       "\n",
       "                                              escudo  \n",
       "0  https://apifutebol.s3.sa-east-1.amazonaws.com/...  \n",
       "1  https://apifutebol.s3.sa-east-1.amazonaws.com/...  \n",
       "2  https://apifutebol.s3.sa-east-1.amazonaws.com/...  \n",
       "3  https://apifutebol.s3.sa-east-1.amazonaws.com/...  \n",
       "4  https://apifutebol.s3.sa-east-1.amazonaws.com/...  "
      ]
     },
     "execution_count": 31,
     "metadata": {},
     "output_type": "execute_result"
    }
   ],
   "source": [
    "# dados no formato de dataframe\n",
    "\n",
    "tabela_df = pd.DataFrame(tabela) # transformando em dataframe\n",
    "tabela_df.head()"
   ]
  },
  {
   "cell_type": "code",
   "execution_count": 32,
   "metadata": {},
   "outputs": [
    {
     "name": "stdout",
     "output_type": "stream",
     "text": [
      "4. Dados convertidos para json\n"
     ]
    }
   ],
   "source": [
    "tabela_dic = tabela_df.to_dict('records') # convertendo dataframe em lista de dicionários\n",
    "# tabela_dic\n",
    "\n",
    "tabela_json = json.dumps(tabela) # converte em json\n",
    "tabela_json\n",
    "\n",
    "print('4. Dados convertidos para json')"
   ]
  },
  {
   "cell_type": "code",
   "execution_count": 33,
   "metadata": {},
   "outputs": [
    {
     "name": "stdout",
     "output_type": "stream",
     "text": [
      "5. Arquivo atualizado no GitHub\n",
      "--- FIM ---\n"
     ]
    }
   ],
   "source": [
    "# ATUALIZANDO ARQUIVO JSON NO GITHUB\n",
    "\n",
    "g = Github(TOKEN_GITHUB) \n",
    "\n",
    "# repositorio\n",
    "repo = g.get_repo(\"lucasthaynan/construindoAPI\")\n",
    "\n",
    "# local do arquivo no repositorio\n",
    "contents = repo.get_contents(\"/api_teste.json\")\n",
    "\n",
    "# atualizando arquivo \n",
    "repo.update_file(contents.path, 'Dados atualizados', tabela_json, contents.sha, branch=\"main\")\n",
    "print('5. Arquivo atualizado no GitHub')\n",
    "\n",
    "print('--- FIM ---')"
   ]
  },
  {
   "cell_type": "code",
   "execution_count": null,
   "metadata": {},
   "outputs": [],
   "source": []
  }
 ],
 "metadata": {
  "interpreter": {
   "hash": "2adcef65025017a28c8a8e125c00b146f28fabedf291ca46c1a4a0bfed978fa1"
  },
  "kernelspec": {
   "display_name": "Python 3.9.5 64-bit",
   "language": "python",
   "name": "python3"
  },
  "language_info": {
   "codemirror_mode": {
    "name": "ipython",
    "version": 3
   },
   "file_extension": ".py",
   "mimetype": "text/x-python",
   "name": "python",
   "nbconvert_exporter": "python",
   "pygments_lexer": "ipython3",
   "version": "3.9.5"
  },
  "orig_nbformat": 4
 },
 "nbformat": 4,
 "nbformat_minor": 2
}
